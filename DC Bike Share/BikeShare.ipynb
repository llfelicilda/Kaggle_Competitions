{
 "metadata": {
  "name": "",
  "signature": "sha256:0d45f341279c48a67188b254d620f9ce3aec1eea0a982936b691858e0d5d4ac5"
 },
 "nbformat": 3,
 "nbformat_minor": 0,
 "worksheets": [
  {
   "cells": [
    {
     "cell_type": "code",
     "collapsed": false,
     "input": [
      "cd C:\\Users\\lfelicilda.SAVVYASIA\\Documents\\IPython Notebooks\\Bike Sharing Demand\\BikeShare"
     ],
     "language": "python",
     "metadata": {},
     "outputs": [
      {
       "output_type": "stream",
       "stream": "stdout",
       "text": [
        "C:\\Users\\lfelicilda.SAVVYASIA\\Documents\\IPython Notebooks\\Bike Sharing Demand\\BikeShare\n"
       ]
      }
     ],
     "prompt_number": 1
    },
    {
     "cell_type": "code",
     "collapsed": false,
     "input": [
      "from zeku import feature_engineering, metrics, utils, pmml, data_source\n",
      "from sklearn import ensemble, linear_model, cross_validation\n",
      "import pandas as pd\n",
      "from pandas import DataFrame, Series\n",
      "import numpy as np\n",
      "from dateutil import parser\n",
      "from sklearn import tree\n",
      "import matplotlib.pyplot as plt\n",
      "from sklearn.learning_curve import learning_curve, validation_curve\n",
      "plt.rcParams['figure.figsize'] = (12.0, 12.0)"
     ],
     "language": "python",
     "metadata": {},
     "outputs": [
      {
       "output_type": "stream",
       "stream": "stderr",
       "text": [
        "C:\\Users\\lfelicilda.SAVVYASIA\\AppData\\Local\\Continuum\\Anaconda\\lib\\site-packages\\scipy\\stats\\distributions.py:35: RuntimeWarning: numpy.ufunc size changed, may indicate binary incompatibility\n",
        "  from . import vonmises_cython\n",
        "C:\\Users\\lfelicilda.SAVVYASIA\\AppData\\Local\\Continuum\\Anaconda\\lib\\site-packages\\scipy\\stats\\stats.py:252: RuntimeWarning: numpy.ufunc size changed, may indicate binary incompatibility\n",
        "  from ._rank import rankdata, tiecorrect\n"
       ]
      }
     ],
     "prompt_number": 2
    },
    {
     "cell_type": "code",
     "collapsed": false,
     "input": [
      "data = DataFrame.from_csv('train.csv', index_col=False)"
     ],
     "language": "python",
     "metadata": {},
     "outputs": [],
     "prompt_number": 3
    },
    {
     "cell_type": "code",
     "collapsed": false,
     "input": [
      "data.head()"
     ],
     "language": "python",
     "metadata": {},
     "outputs": [
      {
       "html": [
        "<div style=\"max-height:1000px;max-width:1500px;overflow:auto;\">\n",
        "<table border=\"1\" class=\"dataframe\">\n",
        "  <thead>\n",
        "    <tr style=\"text-align: right;\">\n",
        "      <th></th>\n",
        "      <th>atemp</th>\n",
        "      <th>casual</th>\n",
        "      <th>count</th>\n",
        "      <th>datetime</th>\n",
        "      <th>holiday</th>\n",
        "      <th>humidity</th>\n",
        "      <th>registered</th>\n",
        "      <th>temp</th>\n",
        "      <th>weather</th>\n",
        "      <th>windspeed</th>\n",
        "      <th>workingday</th>\n",
        "      <th>atemp_lag_1</th>\n",
        "      <th>atemp_lag_2</th>\n",
        "      <th>atemp_lag_3</th>\n",
        "      <th>humidity_lag_1</th>\n",
        "      <th>humidity_lag_2</th>\n",
        "      <th>humidity_lag_3</th>\n",
        "      <th>temp_lag_1</th>\n",
        "      <th>temp_lag_2</th>\n",
        "      <th>temp_lag_3</th>\n",
        "      <th></th>\n",
        "    </tr>\n",
        "  </thead>\n",
        "  <tbody>\n",
        "    <tr>\n",
        "      <th>0</th>\n",
        "      <td> 14.395</td>\n",
        "      <td> 3</td>\n",
        "      <td> 16</td>\n",
        "      <td> 2011-01-01T00:00:00</td>\n",
        "      <td> 0</td>\n",
        "      <td> 81</td>\n",
        "      <td> 13</td>\n",
        "      <td> 9.84</td>\n",
        "      <td> 1</td>\n",
        "      <td> 0</td>\n",
        "      <td> 0</td>\n",
        "      <td>    NaN</td>\n",
        "      <td>    NaN</td>\n",
        "      <td>    NaN</td>\n",
        "      <td>NaN</td>\n",
        "      <td>NaN</td>\n",
        "      <td>NaN</td>\n",
        "      <td>  NaN</td>\n",
        "      <td>  NaN</td>\n",
        "      <td>  NaN</td>\n",
        "      <td>...</td>\n",
        "    </tr>\n",
        "    <tr>\n",
        "      <th>1</th>\n",
        "      <td> 13.635</td>\n",
        "      <td> 8</td>\n",
        "      <td> 40</td>\n",
        "      <td> 2011-01-01T01:00:00</td>\n",
        "      <td> 0</td>\n",
        "      <td> 80</td>\n",
        "      <td> 32</td>\n",
        "      <td> 9.02</td>\n",
        "      <td> 1</td>\n",
        "      <td> 0</td>\n",
        "      <td> 0</td>\n",
        "      <td> 14.395</td>\n",
        "      <td>    NaN</td>\n",
        "      <td>    NaN</td>\n",
        "      <td> 81</td>\n",
        "      <td>NaN</td>\n",
        "      <td>NaN</td>\n",
        "      <td> 9.84</td>\n",
        "      <td>  NaN</td>\n",
        "      <td>  NaN</td>\n",
        "      <td>...</td>\n",
        "    </tr>\n",
        "    <tr>\n",
        "      <th>2</th>\n",
        "      <td> 13.635</td>\n",
        "      <td> 5</td>\n",
        "      <td> 32</td>\n",
        "      <td> 2011-01-01T02:00:00</td>\n",
        "      <td> 0</td>\n",
        "      <td> 80</td>\n",
        "      <td> 27</td>\n",
        "      <td> 9.02</td>\n",
        "      <td> 1</td>\n",
        "      <td> 0</td>\n",
        "      <td> 0</td>\n",
        "      <td> 13.635</td>\n",
        "      <td> 14.395</td>\n",
        "      <td>    NaN</td>\n",
        "      <td> 80</td>\n",
        "      <td> 81</td>\n",
        "      <td>NaN</td>\n",
        "      <td> 9.02</td>\n",
        "      <td> 9.84</td>\n",
        "      <td>  NaN</td>\n",
        "      <td>...</td>\n",
        "    </tr>\n",
        "    <tr>\n",
        "      <th>3</th>\n",
        "      <td> 14.395</td>\n",
        "      <td> 3</td>\n",
        "      <td> 13</td>\n",
        "      <td> 2011-01-01T03:00:00</td>\n",
        "      <td> 0</td>\n",
        "      <td> 75</td>\n",
        "      <td> 10</td>\n",
        "      <td> 9.84</td>\n",
        "      <td> 1</td>\n",
        "      <td> 0</td>\n",
        "      <td> 0</td>\n",
        "      <td> 13.635</td>\n",
        "      <td> 13.635</td>\n",
        "      <td> 14.395</td>\n",
        "      <td> 80</td>\n",
        "      <td> 80</td>\n",
        "      <td> 81</td>\n",
        "      <td> 9.02</td>\n",
        "      <td> 9.02</td>\n",
        "      <td> 9.84</td>\n",
        "      <td>...</td>\n",
        "    </tr>\n",
        "    <tr>\n",
        "      <th>4</th>\n",
        "      <td> 14.395</td>\n",
        "      <td> 0</td>\n",
        "      <td>  1</td>\n",
        "      <td> 2011-01-01T04:00:00</td>\n",
        "      <td> 0</td>\n",
        "      <td> 75</td>\n",
        "      <td>  1</td>\n",
        "      <td> 9.84</td>\n",
        "      <td> 1</td>\n",
        "      <td> 0</td>\n",
        "      <td> 0</td>\n",
        "      <td> 14.395</td>\n",
        "      <td> 13.635</td>\n",
        "      <td> 13.635</td>\n",
        "      <td> 75</td>\n",
        "      <td> 80</td>\n",
        "      <td> 80</td>\n",
        "      <td> 9.84</td>\n",
        "      <td> 9.02</td>\n",
        "      <td> 9.02</td>\n",
        "      <td>...</td>\n",
        "    </tr>\n",
        "  </tbody>\n",
        "</table>\n",
        "<p>5 rows \u00d7 26 columns</p>\n",
        "</div>"
       ],
       "metadata": {},
       "output_type": "pyout",
       "prompt_number": 4,
       "text": [
        "    atemp  casual  count             datetime  holiday  humidity  registered  \\\n",
        "0  14.395       3     16  2011-01-01T00:00:00        0        81          13   \n",
        "1  13.635       8     40  2011-01-01T01:00:00        0        80          32   \n",
        "2  13.635       5     32  2011-01-01T02:00:00        0        80          27   \n",
        "3  14.395       3     13  2011-01-01T03:00:00        0        75          10   \n",
        "4  14.395       0      1  2011-01-01T04:00:00        0        75           1   \n",
        "\n",
        "   temp  weather  windspeed  workingday  atemp_lag_1  atemp_lag_2  \\\n",
        "0  9.84        1          0           0          NaN          NaN   \n",
        "1  9.02        1          0           0       14.395          NaN   \n",
        "2  9.02        1          0           0       13.635       14.395   \n",
        "3  9.84        1          0           0       13.635       13.635   \n",
        "4  9.84        1          0           0       14.395       13.635   \n",
        "\n",
        "   atemp_lag_3  humidity_lag_1  humidity_lag_2  humidity_lag_3  temp_lag_1  \\\n",
        "0          NaN             NaN             NaN             NaN         NaN   \n",
        "1          NaN              81             NaN             NaN        9.84   \n",
        "2          NaN              80              81             NaN        9.02   \n",
        "3       14.395              80              80              81        9.02   \n",
        "4       13.635              75              80              80        9.84   \n",
        "\n",
        "   temp_lag_2  temp_lag_3      \n",
        "0         NaN         NaN ...  \n",
        "1         NaN         NaN ...  \n",
        "2        9.84         NaN ...  \n",
        "3        9.02        9.84 ...  \n",
        "4        9.02        9.02 ...  \n",
        "\n",
        "[5 rows x 26 columns]"
       ]
      }
     ],
     "prompt_number": 4
    },
    {
     "cell_type": "code",
     "collapsed": false,
     "input": [
      "def rmsle(pred, actual):\n",
      "    return np.sqrt(sum(map(lambda x, y: (np.log(x + 1) - np.log(y + 1))**2, pred, actual)) / float(len(actual)))"
     ],
     "language": "python",
     "metadata": {},
     "outputs": [],
     "prompt_number": 5
    },
    {
     "cell_type": "code",
     "collapsed": false,
     "input": [
      "cols = list(data.columns)\n",
      "cols.remove('count')\n",
      "cast_data = utils.multiapply(data, {'datetime': parser.parse})\n",
      "data_dict_list_reg = utils.input_data_schema(cast_data[cols], [],\n",
      "                                             target='registered', model_type='regression')\n",
      "data_dict_list_cas = utils.input_data_schema(cast_data[cols], [],\n",
      "                                             target='casual', model_type='regression')\n",
      "datetime_data, transformations = feature_engineering.format_datetimes_from_schema(cast_data,\n",
      "                                                                                  {'datetime': ['%a', '%H']})\n",
      "binarized, bin_schema, transformations = feature_engineering.binarize_all_categorical(datetime_data,\n",
      "                                                                                      target='registered',\n",
      "                                                                                      transformations=transformations)\n",
      "reg_cols = list(binarized.columns)\n",
      "cas_cols = list(binarized.columns)\n",
      "reg_cols.remove('count')\n",
      "reg_cols.remove('registered')\n",
      "reg_cols.remove('casual')\n",
      "cas_cols.remove('count')\n",
      "cas_cols.remove('registered')\n",
      "cas_cols.remove('casual')"
     ],
     "language": "python",
     "metadata": {},
     "outputs": []
    },
    {
     "cell_type": "code",
     "collapsed": false,
     "input": [
      "X_train_registered = binarized[reg_cols].fillna(0).values\n",
      "X_train_casual = binarized[cas_cols].fillna(0).values\n",
      "Y_train_registered = map(lambda x: np.log(x + 1), binarized['registered'].fillna(0).values)\n",
      "Y_train_casual = map(lambda x: np.log(x + 1), binarized['casual'].fillna(0).values)"
     ],
     "language": "python",
     "metadata": {},
     "outputs": [],
     "prompt_number": 9
    },
    {
     "cell_type": "code",
     "collapsed": false,
     "input": [
      "reg_rf = ensemble.RandomForestRegressor(n_estimators=5, max_depth=10, verbose=2)\n",
      "reg_rf.fit(X_train_registered, Y_train_registered)"
     ],
     "language": "python",
     "metadata": {},
     "outputs": [
      {
       "output_type": "stream",
       "stream": "stdout",
       "text": [
        "building tree 1 of 5\n",
        "building tree 2 of 5"
       ]
      },
      {
       "output_type": "stream",
       "stream": "stdout",
       "text": [
        "\n",
        "building tree 3 of 5"
       ]
      },
      {
       "output_type": "stream",
       "stream": "stdout",
       "text": [
        "\n",
        "building tree 4 of 5"
       ]
      },
      {
       "output_type": "stream",
       "stream": "stdout",
       "text": [
        "\n",
        "building tree 5 of 5"
       ]
      },
      {
       "output_type": "stream",
       "stream": "stdout",
       "text": [
        "\n"
       ]
      },
      {
       "output_type": "stream",
       "stream": "stderr",
       "text": [
        "[Parallel(n_jobs=1)]: Done   1 jobs       | elapsed:    2.8s\n",
        "[Parallel(n_jobs=1)]: Done   1 out of   1 | elapsed:    2.8s finished\n"
       ]
      },
      {
       "metadata": {},
       "output_type": "pyout",
       "prompt_number": 10,
       "text": [
        "RandomForestRegressor(bootstrap=True, compute_importances=None,\n",
        "           criterion='mse', max_depth=10, max_features='auto',\n",
        "           min_density=None, min_samples_leaf=1, min_samples_split=2,\n",
        "           n_estimators=5, n_jobs=1, oob_score=False, random_state=None,\n",
        "           verbose=2)"
       ]
      }
     ],
     "prompt_number": 10
    },
    {
     "cell_type": "code",
     "collapsed": false,
     "input": [
      "pmml.random_forest_pmml(reg_rf, reg_cols, data_dict_list_reg, 'registered', 'Bikeshare for Registered Usage',\n",
      "                        'RF_Registered.pmml', transformations=transformations, ensemble_normalization='exponential',\n",
      "                        model_type=pmml.const.model_types.REGRESSION)"
     ],
     "language": "python",
     "metadata": {},
     "outputs": [],
     "prompt_number": 11
    },
    {
     "cell_type": "code",
     "collapsed": false,
     "input": [
      "cas_rf = ensemble.RandomForestRegressor(n_estimators=5, max_depth=10, verbose=2)\n",
      "cas_rf.fit(X_train_casual, Y_train_casual)"
     ],
     "language": "python",
     "metadata": {},
     "outputs": [
      {
       "output_type": "stream",
       "stream": "stdout",
       "text": [
        "building tree 1 of 5\n",
        "building tree 2 of 5"
       ]
      },
      {
       "output_type": "stream",
       "stream": "stdout",
       "text": [
        "\n",
        "building tree 3 of 5"
       ]
      },
      {
       "output_type": "stream",
       "stream": "stdout",
       "text": [
        "\n",
        "building tree 4 of 5"
       ]
      },
      {
       "output_type": "stream",
       "stream": "stdout",
       "text": [
        "\n",
        "building tree 5 of 5"
       ]
      },
      {
       "output_type": "stream",
       "stream": "stdout",
       "text": [
        "\n"
       ]
      },
      {
       "output_type": "stream",
       "stream": "stderr",
       "text": [
        "[Parallel(n_jobs=1)]: Done   1 jobs       | elapsed:    2.1s\n",
        "[Parallel(n_jobs=1)]: Done   1 out of   1 | elapsed:    2.1s finished\n"
       ]
      },
      {
       "metadata": {},
       "output_type": "pyout",
       "prompt_number": 12,
       "text": [
        "RandomForestRegressor(bootstrap=True, compute_importances=None,\n",
        "           criterion='mse', max_depth=10, max_features='auto',\n",
        "           min_density=None, min_samples_leaf=1, min_samples_split=2,\n",
        "           n_estimators=5, n_jobs=1, oob_score=False, random_state=None,\n",
        "           verbose=2)"
       ]
      }
     ],
     "prompt_number": 12
    },
    {
     "cell_type": "code",
     "collapsed": false,
     "input": [
      "pmml.random_forest_pmml(cas_rf, cas_cols, data_dict_list_cas, 'casual', 'Bikeshare for Casual Usage',\n",
      "                        'RF_Casual.pmml', transformations=transformations, ensemble_normalization='exponential',\n",
      "                        model_type=pmml.const.model_types.REGRESSION)"
     ],
     "language": "python",
     "metadata": {},
     "outputs": [],
     "prompt_number": 13
    },
    {
     "cell_type": "code",
     "collapsed": false,
     "input": [
      "pmml.ensemble_pmml(['RF_Registered.pmml', 'RF_Casual.pmml'], 'RF_Count.pmml', model_type=pmml.const.model_types.REGRESSION,\n",
      "                   multiple_model_method='sum', weights=None, optional_target='count', normalization=None)"
     ],
     "language": "python",
     "metadata": {},
     "outputs": [],
     "prompt_number": 14
    },
    {
     "cell_type": "code",
     "collapsed": false,
     "input": [
      "ds = data_source.CSVDataSource('BikeshareTest', 'bikeshare_test.csv')\n",
      "scoring_server = pmml.ScoringServer('http://localhost:8001', ds)\n",
      "mod = pmml.PMML('bs_rf', 'Ridge_Count.pmml', pmml.const.model_types.REGRESSION)\n",
      "scoring_server.score(mod)"
     ],
     "language": "python",
     "metadata": {},
     "outputs": [
      {
       "ename": "TypeError",
       "evalue": "__init__() takes exactly 2 arguments (3 given)",
       "output_type": "pyerr",
       "traceback": [
        "\u001b[1;31m---------------------------------------------------------------------------\u001b[0m\n\u001b[1;31mTypeError\u001b[0m                                 Traceback (most recent call last)",
        "\u001b[1;32m<ipython-input-16-a1861334354e>\u001b[0m in \u001b[0;36m<module>\u001b[1;34m()\u001b[0m\n\u001b[0;32m      1\u001b[0m \u001b[0mds\u001b[0m \u001b[1;33m=\u001b[0m \u001b[0mdata_source\u001b[0m\u001b[1;33m.\u001b[0m\u001b[0mCSVDataSource\u001b[0m\u001b[1;33m(\u001b[0m\u001b[1;34m'BikeshareTest'\u001b[0m\u001b[1;33m,\u001b[0m \u001b[1;34m'bikeshare_test.csv'\u001b[0m\u001b[1;33m)\u001b[0m\u001b[1;33m\u001b[0m\u001b[0m\n\u001b[1;32m----> 2\u001b[1;33m \u001b[0mscoring_server\u001b[0m \u001b[1;33m=\u001b[0m \u001b[0mpmml\u001b[0m\u001b[1;33m.\u001b[0m\u001b[0mScoringServer\u001b[0m\u001b[1;33m(\u001b[0m\u001b[1;34m'http://localhost:8001'\u001b[0m\u001b[1;33m,\u001b[0m \u001b[0mds\u001b[0m\u001b[1;33m)\u001b[0m\u001b[1;33m\u001b[0m\u001b[0m\n\u001b[0m\u001b[0;32m      3\u001b[0m \u001b[0mmod\u001b[0m \u001b[1;33m=\u001b[0m \u001b[0mpmml\u001b[0m\u001b[1;33m.\u001b[0m\u001b[0mPMML\u001b[0m\u001b[1;33m(\u001b[0m\u001b[1;34m'bs_rf'\u001b[0m\u001b[1;33m,\u001b[0m \u001b[1;34m'Ridge_Count.pmml'\u001b[0m\u001b[1;33m,\u001b[0m \u001b[0mpmml\u001b[0m\u001b[1;33m.\u001b[0m\u001b[0mconst\u001b[0m\u001b[1;33m.\u001b[0m\u001b[0mmodel_types\u001b[0m\u001b[1;33m.\u001b[0m\u001b[0mREGRESSION\u001b[0m\u001b[1;33m)\u001b[0m\u001b[1;33m\u001b[0m\u001b[0m\n\u001b[0;32m      4\u001b[0m \u001b[0mscoring_server\u001b[0m\u001b[1;33m.\u001b[0m\u001b[0mscore\u001b[0m\u001b[1;33m(\u001b[0m\u001b[0mmod\u001b[0m\u001b[1;33m)\u001b[0m\u001b[1;33m\u001b[0m\u001b[0m\n",
        "\u001b[1;31mTypeError\u001b[0m: __init__() takes exactly 2 arguments (3 given)"
       ]
      }
     ],
     "prompt_number": 16
    },
    {
     "cell_type": "code",
     "collapsed": false,
     "input": [],
     "language": "python",
     "metadata": {},
     "outputs": []
    }
   ],
   "metadata": {}
  }
 ]
}