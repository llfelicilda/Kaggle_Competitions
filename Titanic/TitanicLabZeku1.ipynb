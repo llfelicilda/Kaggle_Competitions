{
 "metadata": {
  "name": "",
  "signature": "sha256:f2b8c748d727a626589ec2dd98fbc441fc16d87d869911f36e969cf8105f16bf"
 },
 "nbformat": 3,
 "nbformat_minor": 0,
 "worksheets": [
  {
   "cells": [
    {
     "cell_type": "code",
     "collapsed": false,
     "input": [
      "cd C:\\Users\\lfelicilda.SAVVYASIA\\Documents\\IPython Notebooks\\zeku-test"
     ],
     "language": "python",
     "metadata": {},
     "outputs": []
    },
    {
     "cell_type": "code",
     "collapsed": false,
     "input": [
      "from zeku import feature_engineering, pmml, metrics, data_source, utils\n",
      "from sklearn import linear_model, tree, ensemble, decomposition, datasets\n",
      "from pandas import DataFrame, MultiIndex\n",
      "import pandas as pd\n",
      "import numpy as np\n",
      "from scipy.stats import mode\n",
      "\n",
      "pd.set_option('max_column', 100)"
     ],
     "language": "python",
     "metadata": {},
     "outputs": []
    },
    {
     "cell_type": "code",
     "collapsed": false,
     "input": [
      "titanic_data = data_source.CSVDataSource('TitanicTrain', 'data/titanic_train.csv')"
     ],
     "language": "python",
     "metadata": {},
     "outputs": []
    },
    {
     "cell_type": "code",
     "collapsed": false,
     "input": [
      "titanic_data.data.head()"
     ],
     "language": "python",
     "metadata": {},
     "outputs": []
    },
    {
     "cell_type": "code",
     "collapsed": false,
     "input": [
      "data_1 = titanic_data.data[['sex', 'pclass', 'age', 'sibsp','survived']]\n",
      "utils.multiapply(data_1, {'pclass': str}, True)\n",
      "data_dict_list = utils.input_data_schema(data_1, [], 'survived')\n",
      "age_mapping = data_1.pivot_table(rows=['sex'], values='age', aggfunc=np.mean)\n",
      "df_mapping, transf = feature_engineering.map_values(data_1, {'age_fill': age_mapping})\n",
      "df_filled, fill_transf = feature_engineering.fill_missing(df_mapping, {'age_filled': {'source': 'age', 'fill': 'age_fill'}},\n",
      "                                                          transformations=transf)\n",
      "cols = list(df_filled.columns)\n",
      "cols.remove('age')\n",
      "cols.remove('age_fill')\n",
      "df_filled = df_filled.fillna(df_filled.mean())[cols]\n",
      "df_filled.head()\n",
      "disc_schema = {'age_filled': [[0.0,10.0],[10.0,30.0],[30.0,np.inf]]}\n",
      "discretized_frame, ef_transformations = feature_engineering.discretize_from_schema(df_filled[cols],\n",
      "                                                                                   disc_schema,\n",
      "                                                                                   transformations=fill_transf)\n",
      "discretized_frame.head()\n",
      "binarized_frame, bin_schema, transformations = feature_engineering.binarize_all_categorical(discretized_frame,\n",
      "                                                                                               target='survived',\n",
      "                                                                                               transformations=ef_transformations)"
     ],
     "language": "python",
     "metadata": {},
     "outputs": []
    },
    {
     "cell_type": "code",
     "collapsed": false,
     "input": [
      "train_cols = list(binarized_frame.columns)\n",
      "train_cols.remove('survived')\n",
      "X_train = binarized_frame[train_cols].fillna(0).values\n",
      "Y_train = binarized_frame['survived'].values"
     ],
     "language": "python",
     "metadata": {},
     "outputs": []
    },
    {
     "cell_type": "code",
     "collapsed": false,
     "input": [
      "clf_lr = linear_model.LogisticRegression(C=0.5)\n",
      "clf_lr.fit(X_train, Y_train)"
     ],
     "language": "python",
     "metadata": {},
     "outputs": []
    },
    {
     "cell_type": "code",
     "collapsed": false,
     "input": [
      "pmml.log_rgrs_pmml(clf_lr, train_cols, data_dict_list,\n",
      "                   'survived', 'LogReg Titanic Survival',\n",
      "                   'PMML/log_reg_Titanic.pmml', transformations=transformations)"
     ],
     "language": "python",
     "metadata": {},
     "outputs": []
    },
    {
     "cell_type": "code",
     "collapsed": false,
     "input": [],
     "language": "python",
     "metadata": {},
     "outputs": []
    }
   ],
   "metadata": {}
  }
 ]
}